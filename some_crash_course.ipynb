{
 "cells": [
  {
   "cell_type": "code",
   "execution_count": null,
   "metadata": {},
   "outputs": [],
   "source": [
    "for i in range(1, 21):\n",
    "    print(i)"
   ]
  },
  {
   "cell_type": "code",
   "execution_count": 5,
   "metadata": {},
   "outputs": [
    {
     "name": "stdout",
     "output_type": "stream",
     "text": [
      "[1, 2, 3, 4, 5, 6, 7, 8, 9, 10, 11, 12, 13, 14, 15, 16, 17, 18, 19, 20, 21, 22, 23, 24, 25, 26, 27, 28, 29, 30, 31, 32, 33, 34, 35, 36, 37, 38, 39, 40, 41, 42, 43, 44, 45, 46, 47, 48, 49, 50, 51, 52, 53, 54, 55, 56, 57, 58, 59, 60, 61, 62, 63, 64, 65, 66, 67, 68, 69, 70, 71, 72, 73, 74, 75, 76, 77, 78, 79, 80, 81, 82, 83, 84, 85, 86, 87, 88, 89, 90, 91, 92, 93, 94, 95, 96, 97, 98, 99, 100]\n"
     ]
    }
   ],
   "source": [
    "my_list = list(range(1, 101))\n",
    "print(my_list)"
   ]
  },
  {
   "cell_type": "code",
   "execution_count": 6,
   "metadata": {},
   "outputs": [
    {
     "name": "stdout",
     "output_type": "stream",
     "text": [
      "1\n"
     ]
    }
   ],
   "source": [
    "print(min(my_list))\n"
   ]
  },
  {
   "cell_type": "code",
   "execution_count": 7,
   "metadata": {},
   "outputs": [
    {
     "name": "stdout",
     "output_type": "stream",
     "text": [
      "100\n"
     ]
    }
   ],
   "source": [
    "print(max(my_list))"
   ]
  },
  {
   "cell_type": "code",
   "execution_count": 9,
   "metadata": {},
   "outputs": [
    {
     "name": "stdout",
     "output_type": "stream",
     "text": [
      "5050\n"
     ]
    }
   ],
   "source": [
    "print(sum(my_list))"
   ]
  },
  {
   "cell_type": "code",
   "execution_count": 10,
   "metadata": {},
   "outputs": [
    {
     "name": "stdout",
     "output_type": "stream",
     "text": [
      "[1, 3, 5, 7, 9, 11, 13, 15, 17, 19]\n"
     ]
    }
   ],
   "source": [
    "my_odd_list = list(range(1, 20, 2))\n",
    "print(my_odd_list)"
   ]
  },
  {
   "cell_type": "code",
   "execution_count": 15,
   "metadata": {},
   "outputs": [
    {
     "name": "stdout",
     "output_type": "stream",
     "text": [
      "[3, 6, 9, 12, 15, 18, 21, 24, 27]\n",
      "3\n",
      "6\n",
      "9\n",
      "12\n",
      "15\n",
      "18\n",
      "21\n",
      "24\n",
      "27\n"
     ]
    }
   ],
   "source": [
    "my_three_multiple_list = list(range(3, 30, 3))\n",
    "print(my_three_multiple_list)\n",
    "for multiple in my_three_multiple_list:\n",
    "    print(multiple)\n"
   ]
  },
  {
   "cell_type": "code",
   "execution_count": 19,
   "metadata": {},
   "outputs": [
    {
     "name": "stdout",
     "output_type": "stream",
     "text": [
      "[1, 8, 27, 64, 125, 216, 343, 512, 729, 1000]\n",
      "[1, 8, 27, 64, 125, 216, 343, 512, 729, 1000]\n"
     ]
    }
   ],
   "source": [
    "tenth_list = list(range(1, 11))\n",
    "cubes = []\n",
    "for num in tenth_list:\n",
    "    cube = num**3\n",
    "    cubes.append(cube)\n",
    "\n",
    "print(cubes)\n",
    "cube_comprehension = [num**3 for num in tenth_list]\n",
    "print(cube_comprehension)"
   ]
  },
  {
   "cell_type": "code",
   "execution_count": 23,
   "metadata": {},
   "outputs": [
    {
     "name": "stdout",
     "output_type": "stream",
     "text": [
      "charles\n",
      "martina\n",
      "michael\n",
      "florence\n",
      "eli\n",
      "----------------------\n",
      "charles\n",
      "martina\n"
     ]
    }
   ],
   "source": [
    "players = [\"charles\", \"martina\", \"michael\", \"florence\", \"eli\"]\n",
    "for player in players:\n",
    "    print(player)\n",
    "print(\"----------------------\")\n",
    "for player in players[:2]:\n",
    "    print(player)"
   ]
  },
  {
   "cell_type": "code",
   "execution_count": 25,
   "metadata": {},
   "outputs": [
    {
     "name": "stdout",
     "output_type": "stream",
     "text": [
      "charles\n",
      "martina\n",
      "michael\n"
     ]
    }
   ],
   "source": [
    "for player in players[:3]:\n",
    "    print(player)"
   ]
  },
  {
   "cell_type": "code",
   "execution_count": 51,
   "metadata": {},
   "outputs": [
    {
     "name": "stdout",
     "output_type": "stream",
     "text": [
      "this is the max 10\n",
      "yes it is not a number\n",
      "38 it is a number\n"
     ]
    }
   ],
   "source": [
    "another_example_list = list(range(1, 11))\n",
    "print(\"this is the max\", max(another_example_list))\n",
    "variable_1 = \"yes\"\n",
    "variable_2 = 38\n",
    "\n",
    "check_digit(variable_1)\n",
    "check_digit(variable_2)\n",
    "\n",
    "\n",
    "def check_digit(variable):\n",
    "    if isinstance(variable, (float, int)):\n",
    "        print(variable, \"it is a number\")\n",
    "    else:\n",
    "        print(variable, \"it is not a number\")"
   ]
  },
  {
   "cell_type": "code",
   "execution_count": 59,
   "metadata": {},
   "outputs": [
    {
     "name": "stdout",
     "output_type": "stream",
     "text": [
      "the values of x is: 7\n",
      "7\n"
     ]
    }
   ],
   "source": [
    "\"\"\"Vamos a hacer un poco de exceptions\"\"\"\n",
    "\n",
    "while True:\n",
    "    try:\n",
    "        x_var = int(input(\"What is the value of x? \"))\n",
    "        print(\"the values of x is:\", x_var)\n",
    "    except ValueError:\n",
    "        pass\n",
    "    else:\n",
    "        print(x_var)\n",
    "        break"
   ]
  },
  {
   "cell_type": "code",
   "execution_count": 63,
   "metadata": {},
   "outputs": [
    {
     "ename": "SyntaxError",
     "evalue": "invalid syntax (43784110.py, line 17)",
     "output_type": "error",
     "traceback": [
      "\u001b[0;36m  Cell \u001b[0;32mIn[63], line 17\u001b[0;36m\u001b[0m\n\u001b[0;31m    except ValueError:\u001b[0m\n\u001b[0m    ^\u001b[0m\n\u001b[0;31mSyntaxError\u001b[0m\u001b[0;31m:\u001b[0m invalid syntax\n"
     ]
    }
   ],
   "source": [
    "\"\"\"make a list with all the elements of the list bellow 5 and print it\"\"\"\n",
    "\n",
    "a = [1, 1, 2, 3, 5, 8, 13, 21, 34, 55, 89]\n",
    "b = []\n",
    "for element in a:\n",
    "    if element < 5:\n",
    "        b.append(element)\n",
    "print(b)\n",
    "\n",
    "\"\"\"Ask for a number and make a list of all numbers bellow it\"\"\"\n",
    "b.clear()\n",
    "number = ask_number()\n",
    "def ask_number():\n",
    "    while True:\n",
    "        try:\n",
    "            user_number = int(input(\"Which number do you want to check? \"))\n",
    "            return user_number\n",
    "        except ValueError:\n",
    "            pass\n"
   ]
  }
 ],
 "metadata": {
  "kernelspec": {
   "display_name": "Python 3",
   "language": "python",
   "name": "python3"
  },
  "language_info": {
   "codemirror_mode": {
    "name": "ipython",
    "version": 3
   },
   "file_extension": ".py",
   "mimetype": "text/x-python",
   "name": "python",
   "nbconvert_exporter": "python",
   "pygments_lexer": "ipython3",
   "version": "3.10.14"
  }
 },
 "nbformat": 4,
 "nbformat_minor": 2
}
